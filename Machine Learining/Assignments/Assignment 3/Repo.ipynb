{
 "cells": [
  {
   "cell_type": "code",
   "execution_count": null,
   "id": "4800fb5d",
   "metadata": {},
   "outputs": [],
   "source": [
    "index = 0\n",
    "while (index < unmatch_indexes.shape[0]):\n",
    "    testimg = np.array(To_Be_Test[unmatch_indexes[index]:unmatch_indexes[index] + 1,:])\n",
    "    img = np.reshape(testimg,(16,16),order='F')\n",
    "    plt.imshow(img)\n",
    "    plt.show()\n",
    "    index += 1"
   ]
  },
  {
   "cell_type": "code",
   "execution_count": null,
   "id": "a6f1fe5d",
   "metadata": {},
   "outputs": [],
   "source": [
    "#Training\n",
    "with open('trainX.txt', 'r') as file:                 # Open the text file for reading\n",
    "    lines = file.readlines()                 \n",
    "\n",
    "data = []                                             # Initialize a list to store the 2D array\n",
    "\n",
    "for line in lines:                                    # Iterate through the lines and process each line\n",
    "    number_strings = line.strip().split()             # Split by space and remove leading/trailing whitespace\n",
    "    row = [int(num) for num in number_strings]        # Convert strings to ints\n",
    "    data.append(row)\n",
    "\n",
    "Train_X = np.array(data)                             # Convert the list of lists to a NumPy array"
   ]
  },
  {
   "cell_type": "code",
   "execution_count": 1,
   "id": "bfa7bc9c",
   "metadata": {},
   "outputs": [
    {
     "ename": "SyntaxError",
     "evalue": "invalid decimal literal (665720864.py, line 1)",
     "output_type": "error",
     "traceback": [
      "\u001b[1;36m  Cell \u001b[1;32mIn[1], line 1\u001b[1;36m\u001b[0m\n\u001b[1;33m    To convert a text file containing 10 number strings in each line separated by spaces into a 2D NumPy array, you can follow these steps:\u001b[0m\n\u001b[1;37m                                                                                                ^\u001b[0m\n\u001b[1;31mSyntaxError\u001b[0m\u001b[1;31m:\u001b[0m invalid decimal literal\n"
     ]
    }
   ],
   "source": [
    "To convert a text file containing 10 number strings in each line separated by spaces into a 2D NumPy array,\n",
    "you can follow these steps:\n",
    "\n",
    "Read the text file line by line.\n",
    "Split each line into individual number strings using space as a delimiter.\n",
    "Convert each number string to the desired data type (e.g., integer or float).\n",
    "Append the converted numbers to a list to represent each row of the 2D array.\n",
    "After reading all lines, use NumPy to create a 2D array from the list.\n",
    "Here's an example code to achieve this:\n",
    "\n",
    "python\n",
    "Copy code\n",
    "import numpy as np\n",
    "\n",
    "# Open the text file for reading\n",
    "with open('data.txt', 'r') as file:\n",
    "    lines = file.readlines()\n",
    "\n",
    "# Initialize a list to store the 2D array\n",
    "data = []\n",
    "\n",
    "# Iterate through the lines and process each line\n",
    "for line in lines:\n",
    "    number_strings = line.strip().split()  # Split by space and remove leading/trailing whitespace\n",
    "    row = [float(num) for num in number_strings]  # Convert strings to floats\n",
    "    data.append(row)\n",
    "\n",
    "# Convert the list of lists to a NumPy array\n",
    "data_array = np.array(data)\n",
    "\n",
    "# Print the 2D NumPy array\n",
    "print(data_array)\n",
    "In this code, data.txt should be the name of your text file with the number strings.\n",
    "The code reads each line, converts the number strings to floats in this example (you can change the data type to \n",
    "int or another type if needed), and appends them to the data list.\n",
    "After processing all lines, it creates a 2D NumPy array, data_array, from the list of lists.\n",
    "\n",
    "Ensure that your text file contains the number strings separated by spaces and\n",
    "that they are formatted correctly for this code to work as expected."
   ]
  },
  {
   "cell_type": "code",
   "execution_count": null,
   "id": "f67c5f20",
   "metadata": {},
   "outputs": [],
   "source": [
    "# calculate probabilities for given classes when single input is given and using loop to iterate through input\n",
    "\n",
    "limit = inp.shape[0] - 1\n",
    "index = 0\n",
    "Yes_Prob = 1\n",
    "while (index <= limit):\n",
    "    if inp[index]==1:\n",
    "        Yes_Prob = Yes_Prob * Yes_One_Prob[index]\n",
    "    else:\n",
    "        Yes_Prob = Yes_Prob * Yes_Zero_Prob[index]\n",
    "    index += 1\n",
    "Yes_Prob *= Yes_Train.shape[0] / X_Train.shape[0]\n",
    "print ('Probability of Yes Class: ' , Yes_Prob)\n",
    "\n",
    "index = 0\n",
    "No_Prob = 1\n",
    "while (index <= limit):\n",
    "    if inp[index]==1:\n",
    "        No_Prob = No_Prob * No_One_Prob[index]\n",
    "    else:\n",
    "        No_Prob = No_Prob * No_Zero_Prob[index]\n",
    "    index += 1\n",
    "No_Prob *= No_Train.shape[0] / X_Train.shape[0]\n",
    "print (No_Prob, No_Prob.shape)"
   ]
  },
  {
   "cell_type": "code",
   "execution_count": null,
   "id": "0fee33f4",
   "metadata": {},
   "outputs": [],
   "source": [
    "#for reading txt file by pandas\n",
    "df = pd.read_csv('trainX.txt' , delimiter=' ' , header=None )\n",
    "print (df , '\\n')\n",
    "print (df.shape)\n",
    "df2 = df.applymap(lambda x: x.strip() if isinstance(x, str) else x)\n",
    "print (df2 , '\\n')\n",
    "print (df2.shape)"
   ]
  }
 ],
 "metadata": {
  "kernelspec": {
   "display_name": "Python 3 (ipykernel)",
   "language": "python",
   "name": "python3"
  },
  "language_info": {
   "codemirror_mode": {
    "name": "ipython",
    "version": 3
   },
   "file_extension": ".py",
   "mimetype": "text/x-python",
   "name": "python",
   "nbconvert_exporter": "python",
   "pygments_lexer": "ipython3",
   "version": "3.11.5"
  }
 },
 "nbformat": 4,
 "nbformat_minor": 5
}
