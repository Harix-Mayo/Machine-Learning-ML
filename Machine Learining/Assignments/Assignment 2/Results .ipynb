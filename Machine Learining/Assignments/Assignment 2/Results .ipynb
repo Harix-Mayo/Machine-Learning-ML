{
 "cells": [
  {
   "cell_type": "markdown",
   "id": "204a3946",
   "metadata": {},
   "source": [
    "| Model Name | MSE on Training Data | MSE on Testing Data |\n",
    "| :--------: | :------------------- | :------------------ |\n",
    "| ***Linear***      | 0.14953637691472502 | 0.1579660860229887 |\n",
    "| ***Quadratic***   | 0.14413528518661506 | 0.16302089797481426 |\n",
    "|***Cubic***        | 0.02483012768110781 | 0.02577102884547801\n",
    "|***Fourth_Degree***| 0.022185818262726725 | 0.025012609208230598 |\n",
    "|***Fifth_Degree*** | 0.019260778699991505 | 0.02210338713428864 |\n",
    "|***Sixth_Degree*** | 0.019242105452910694 | 0.022254337914173396 |\n",
    "\n",
    "\n",
    "So **Sixth_Degree** model is best because it has least MSE"
   ]
  }
 ],
 "metadata": {
  "kernelspec": {
   "display_name": "Python 3 (ipykernel)",
   "language": "python",
   "name": "python3"
  },
  "language_info": {
   "codemirror_mode": {
    "name": "ipython",
    "version": 3
   },
   "file_extension": ".py",
   "mimetype": "text/x-python",
   "name": "python",
   "nbconvert_exporter": "python",
   "pygments_lexer": "ipython3",
   "version": "3.11.5"
  }
 },
 "nbformat": 4,
 "nbformat_minor": 5
}
